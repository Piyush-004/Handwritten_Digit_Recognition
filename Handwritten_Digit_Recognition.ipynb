{
  "nbformat": 4,
  "nbformat_minor": 0,
  "metadata": {
    "colab": {
      "provenance": [],
      "authorship_tag": "ABX9TyM1plvmXSQxJovEZE+Dn0Xq",
      "include_colab_link": true
    },
    "kernelspec": {
      "name": "python3",
      "display_name": "Python 3"
    },
    "language_info": {
      "name": "python"
    }
  },
  "cells": [
    {
      "cell_type": "markdown",
      "metadata": {
        "id": "view-in-github",
        "colab_type": "text"
      },
      "source": [
        "<a href=\"https://colab.research.google.com/github/Piyush-004/Handwritten_Digit_Recognition/blob/main/Handwritten_Digit_Recognition.ipynb\" target=\"_parent\"><img src=\"https://colab.research.google.com/assets/colab-badge.svg\" alt=\"Open In Colab\"/></a>"
      ]
    },
    {
      "cell_type": "markdown",
      "source": [
        "# HANDWRITTEN DIGIT RECOGNITION MODEL\n",
        "\n",
        "\n",
        "---\n",
        "\n",
        "First we start by importing the libraries."
      ],
      "metadata": {
        "id": "imo7f0OYrgtE"
      }
    },
    {
      "cell_type": "code",
      "execution_count": null,
      "metadata": {
        "id": "yTS0tmmvCty2"
      },
      "outputs": [],
      "source": [
        "import tensorflow as tf\n",
        "from tensorflow import keras\n",
        "import numpy as np\n",
        "import matplotlib.pyplot as plt\n",
        "%matplotlib inline\n",
        "import seaborn as sn"
      ]
    },
    {
      "cell_type": "markdown",
      "source": [
        "Then we will import the MNIST datasets then split it into train set and test set."
      ],
      "metadata": {
        "id": "xs1nfCGeru0z"
      }
    },
    {
      "cell_type": "code",
      "source": [
        "mnsit = tf.keras.datasets.mnist\n",
        "(X_train, y_train), (X_test, y_test) = mnsit.load_data()"
      ],
      "metadata": {
        "id": "6mMP6JI3C9xk"
      },
      "execution_count": null,
      "outputs": []
    },
    {
      "cell_type": "code",
      "source": [
        "X_train.shape"
      ],
      "metadata": {
        "colab": {
          "base_uri": "https://localhost:8080/"
        },
        "id": "yiaCaECWDNzH",
        "outputId": "e03f85c4-5789-432a-c649-4e5a46d4d96e"
      },
      "execution_count": null,
      "outputs": [
        {
          "output_type": "execute_result",
          "data": {
            "text/plain": [
              "(60000, 28, 28)"
            ]
          },
          "metadata": {},
          "execution_count": 87
        }
      ]
    },
    {
      "cell_type": "code",
      "source": [
        "y_train.shape"
      ],
      "metadata": {
        "colab": {
          "base_uri": "https://localhost:8080/"
        },
        "id": "PwrZ4cnsDlTR",
        "outputId": "567cb76b-fb6c-46ed-8d46-70317c74fe21"
      },
      "execution_count": null,
      "outputs": [
        {
          "output_type": "execute_result",
          "data": {
            "text/plain": [
              "(60000,)"
            ]
          },
          "metadata": {},
          "execution_count": 88
        }
      ]
    },
    {
      "cell_type": "code",
      "source": [
        "X_test.shape"
      ],
      "metadata": {
        "colab": {
          "base_uri": "https://localhost:8080/"
        },
        "id": "Y4J82bi67Axp",
        "outputId": "84eea1eb-3bd9-4d1b-cebf-9cc0f491b8c6"
      },
      "execution_count": null,
      "outputs": [
        {
          "output_type": "execute_result",
          "data": {
            "text/plain": [
              "(10000, 28, 28)"
            ]
          },
          "metadata": {},
          "execution_count": 89
        }
      ]
    },
    {
      "cell_type": "code",
      "source": [
        "y_test.shape"
      ],
      "metadata": {
        "colab": {
          "base_uri": "https://localhost:8080/"
        },
        "id": "HUt6qIbv7DYv",
        "outputId": "522cd230-be66-40d7-b2e8-2dbbbb93d5bb"
      },
      "execution_count": null,
      "outputs": [
        {
          "output_type": "execute_result",
          "data": {
            "text/plain": [
              "(10000,)"
            ]
          },
          "metadata": {},
          "execution_count": 90
        }
      ]
    },
    {
      "cell_type": "code",
      "source": [
        "plt.imshow(X_train[2])"
      ],
      "metadata": {
        "id": "HTGW_BQSDpeE",
        "colab": {
          "base_uri": "https://localhost:8080/",
          "height": 447
        },
        "outputId": "5f6f8b0f-60cd-440b-81ba-9e429081f6fa"
      },
      "execution_count": null,
      "outputs": [
        {
          "output_type": "execute_result",
          "data": {
            "text/plain": [
              "<matplotlib.image.AxesImage at 0x7e201bca6500>"
            ]
          },
          "metadata": {},
          "execution_count": 91
        },
        {
          "output_type": "display_data",
          "data": {
            "text/plain": [
              "<Figure size 640x480 with 1 Axes>"
            ],
            "image/png": "[encoded data removed]"
          },
          "metadata": {}
        }
      ]
    },
    {
      "cell_type": "code",
      "source": [
        "y_train[2]"
      ],
      "metadata": {
        "colab": {
          "base_uri": "https://localhost:8080/"
        },
        "id": "RO1CfBsfD6oJ",
        "outputId": "58b5d632-58ba-4e39-ca4d-a61ba280612c"
      },
      "execution_count": null,
      "outputs": [
        {
          "output_type": "execute_result",
          "data": {
            "text/plain": [
              "4"
            ]
          },
          "metadata": {},
          "execution_count": 92
        }
      ]
    },
    {
      "cell_type": "markdown",
      "source": [
        "We normalize the pixel values to a range of 0 to 1."
      ],
      "metadata": {
        "id": "f5j6xAtHr6HF"
      }
    },
    {
      "cell_type": "code",
      "source": [
        "X_train_normalize = tf.keras.utils.normalize(X_train, axis=1)\n",
        "X_test_normalize = tf.keras.utils.normalize(X_test, axis=1)"
      ],
      "metadata": {
        "id": "e0X-m7N0D-x_"
      },
      "execution_count": null,
      "outputs": []
    },
    {
      "cell_type": "markdown",
      "source": [
        "We now convert the 2D array of 28x28 pixels into a 1D array of 784 pixels. It’s necessary to flatten the input before passing it to the dense layers."
      ],
      "metadata": {
        "id": "jTyS9zqksC74"
      }
    },
    {
      "cell_type": "code",
      "source": [
        "X_train_reshaped = X_train.reshape(len(X_train_normalize),28*28)\n",
        "X_test_reshaped = X_test.reshape(len(X_test_normalize),28*28)"
      ],
      "metadata": {
        "id": "YtZiw9snEnCK"
      },
      "execution_count": null,
      "outputs": []
    },
    {
      "cell_type": "code",
      "source": [
        "X_train_reshaped.shape"
      ],
      "metadata": {
        "colab": {
          "base_uri": "https://localhost:8080/"
        },
        "id": "AV7BSHkQE5tt",
        "outputId": "e73f8bcc-d408-4799-de38-8a20f2ccec21"
      },
      "execution_count": null,
      "outputs": [
        {
          "output_type": "execute_result",
          "data": {
            "text/plain": [
              "(60000, 784)"
            ]
          },
          "metadata": {},
          "execution_count": 95
        }
      ]
    },
    {
      "cell_type": "code",
      "source": [
        "X_test_reshaped.shape"
      ],
      "metadata": {
        "colab": {
          "base_uri": "https://localhost:8080/"
        },
        "id": "y5htDOsQFJ5M",
        "outputId": "76b0f59d-e0ca-4074-d005-db2697f9b621"
      },
      "execution_count": null,
      "outputs": [
        {
          "output_type": "execute_result",
          "data": {
            "text/plain": [
              "(10000, 784)"
            ]
          },
          "metadata": {},
          "execution_count": 96
        }
      ]
    },
    {
      "cell_type": "markdown",
      "source": [
        "For the model, we will build 2 Hidden Layers, and 1 Output Layer.\n",
        "\n",
        "1) Hidden Layers: Each of these layers contains 128 neurons and utilizes the ReLU activation function.\n",
        "\n",
        "2) Output Layer: This layer consists of 10 neurons, each representing a digit from 0 to 9, and utilizes the Softmax activation function to obtain the probability for each digit."
      ],
      "metadata": {
        "id": "cVch_PiQsPvl"
      }
    },
    {
      "cell_type": "code",
      "source": [
        "model=keras.Sequential([\n",
        "    keras.layers.Dense(128, activation='relu'),\n",
        "    keras.layers.Dense(128, activation='relu'),\n",
        "    keras.layers.Dense(10, activation='softmax')\n",
        "])"
      ],
      "metadata": {
        "id": "roMU8VB0FMnC"
      },
      "execution_count": null,
      "outputs": []
    },
    {
      "cell_type": "markdown",
      "source": [
        "Now it’s time to compile our model. These are the parameters that we’ll be use:\n",
        "\n",
        "**Optimizer**: We’ll be used Adam optimizer. Adam combines momentum optimization and RMSprop, making it a versatile and widely used optimizer in the deep learning community.\n",
        "\n",
        "**Loss Function**: The loss function is a measure of how well the model performs during training. For classification problems with integer labels, sparse_categorical_crossentropy is a common choice. It calculates the cross-entropy loss between the predicted probabilities and the true labels.\n",
        "\n",
        "**Metrics**: Accuracy is chosen as the evaluation metric for its interpretability and relevance in classification tasks. It represents the proportion of correctly classified instances, offering a straightforward measure of the model’s overall performance in terms of correct predictions."
      ],
      "metadata": {
        "id": "9kOQZw-ZsrOj"
      }
    },
    {
      "cell_type": "code",
      "source": [
        "model.compile(optimizer='adam', loss='sparse_categorical_crossentropy', metrics=['accuracy'])"
      ],
      "metadata": {
        "id": "yqlU58a4Gbxr"
      },
      "execution_count": null,
      "outputs": []
    },
    {
      "cell_type": "markdown",
      "source": [
        "Now we’ll train the model using the train set."
      ],
      "metadata": {
        "id": "xn3XFDY0s_CY"
      }
    },
    {
      "cell_type": "code",
      "source": [
        "model.fit(X_train_reshaped, y_train, epochs=5)"
      ],
      "metadata": {
        "colab": {
          "base_uri": "https://localhost:8080/"
        },
        "id": "qyBvqu7zGm7F",
        "outputId": "ca481743-a5f7-402f-febc-b75bb210da5a"
      },
      "execution_count": null,
      "outputs": [
        {
          "output_type": "stream",
          "name": "stdout",
          "text": [
            "Epoch 1/5\n",
            "1875/1875 [==============================] - 11s 5ms/step - loss: 1.5345 - accuracy: 0.8762\n",
            "Epoch 2/5\n",
            "1875/1875 [==============================] - 8s 4ms/step - loss: 0.2817 - accuracy: 0.9321\n",
            "Epoch 3/5\n",
            "1875/1875 [==============================] - 10s 5ms/step - loss: 0.1866 - accuracy: 0.9482\n",
            "Epoch 4/5\n",
            "1875/1875 [==============================] - 9s 5ms/step - loss: 0.1602 - accuracy: 0.9551\n",
            "Epoch 5/5\n",
            "1875/1875 [==============================] - 8s 4ms/step - loss: 0.1393 - accuracy: 0.9608\n"
          ]
        },
        {
          "output_type": "execute_result",
          "data": {
            "text/plain": [
              "<keras.src.callbacks.History at 0x7e201bdffd60>"
            ]
          },
          "metadata": {},
          "execution_count": 99
        }
      ]
    },
    {
      "cell_type": "markdown",
      "source": [
        "We can see that our model have 96.08% accuracy based on the train set. Now it’s time for us to evaluate the model to predict the test set."
      ],
      "metadata": {
        "id": "OMccN2PwtDyU"
      }
    },
    {
      "cell_type": "code",
      "source": [
        "loss, accuracy = model.evaluate(X_test_reshaped, y_test)"
      ],
      "metadata": {
        "colab": {
          "base_uri": "https://localhost:8080/"
        },
        "id": "Du279BJnGuHk",
        "outputId": "50c11605-fe89-4956-83f1-ce333f90d1e1"
      },
      "execution_count": null,
      "outputs": [
        {
          "output_type": "stream",
          "name": "stdout",
          "text": [
            "313/313 [==============================] - 1s 2ms/step - loss: 0.1631 - accuracy: 0.9568\n"
          ]
        }
      ]
    },
    {
      "cell_type": "markdown",
      "source": [
        "The accuracy of our model when used to predict the test set is 95.68%. This accuracy is considered quite good and stable when compared to the accuracy achieved on the training set."
      ],
      "metadata": {
        "id": "GpdRV51gtPrk"
      }
    },
    {
      "cell_type": "code",
      "source": [
        "model.save('handwrittendigitrecognition.model')"
      ],
      "metadata": {
        "id": "trx-jSPyG_KO"
      },
      "execution_count": null,
      "outputs": []
    },
    {
      "cell_type": "code",
      "source": [
        "plt.imshow(X_test[0])"
      ],
      "metadata": {
        "colab": {
          "base_uri": "https://localhost:8080/",
          "height": 447
        },
        "id": "ClnhFWuiNNya",
        "outputId": "7c0b5db3-a070-4ce0-9942-9f42bdd9ed0f"
      },
      "execution_count": null,
      "outputs": [
        {
          "output_type": "execute_result",
          "data": {
            "text/plain": [
              "<matplotlib.image.AxesImage at 0x7e201b422e00>"
            ]
          },
          "metadata": {},
          "execution_count": 101
        },
        {
          "output_type": "display_data",
          "data": {
            "text/plain": [
              "<Figure size 640x480 with 1 Axes>"
            ],
            "image/png": "[encoded data removed]"
          },
          "metadata": {}
        }
      ]
    },
    {
      "cell_type": "code",
      "source": [
        "y_predict=model.predict(X_test_reshaped)\n",
        "np.argmax(y_predict[0])"
      ],
      "metadata": {
        "id": "rzl07Y2oNz7L",
        "colab": {
          "base_uri": "https://localhost:8080/"
        },
        "outputId": "b73e7696-4b7e-42d2-8e0c-7596dfcdd25d"
      },
      "execution_count": null,
      "outputs": [
        {
          "output_type": "stream",
          "name": "stdout",
          "text": [
            "313/313 [==============================] - 1s 2ms/step\n"
          ]
        },
        {
          "output_type": "execute_result",
          "data": {
            "text/plain": [
              "7"
            ]
          },
          "metadata": {},
          "execution_count": 102
        }
      ]
    },
    {
      "cell_type": "code",
      "source": [
        "y_labels=[np.argmax(i) for i in y_predict]"
      ],
      "metadata": {
        "id": "8n_zxFZoQt7u"
      },
      "execution_count": null,
      "outputs": []
    },
    {
      "cell_type": "markdown",
      "source": [
        "Now we create a confusion matrix to visualize our predictions.\n",
        "\n",
        "A **confusion matrix** represents the prediction summary in matrix form. It shows how many prediction are correct and incorrect per class."
      ],
      "metadata": {
        "id": "OVvcKbl7tZTk"
      }
    },
    {
      "cell_type": "code",
      "source": [
        "cm = tf.math.confusion_matrix(labels=y_test,predictions=y_labels)\n",
        "cm"
      ],
      "metadata": {
        "colab": {
          "base_uri": "https://localhost:8080/"
        },
        "id": "-f-IoJvEQfec",
        "outputId": "029670a8-84c3-47b3-f052-bce8f217fef3"
      },
      "execution_count": null,
      "outputs": [
        {
          "output_type": "execute_result",
          "data": {
            "text/plain": [
              "<tf.Tensor: shape=(10, 10), dtype=int32, numpy=\n",
              "array([[ 959,    0,    1,    0,    1,    1,    4,    4,    7,    3],\n",
              "       [   0, 1125,    0,    2,    1,    2,    4,    1,    0,    0],\n",
              "       [   4,    1,  993,    1,    7,    1,    3,   14,    7,    1],\n",
              "       [   1,    1,   16,  931,    0,   19,    0,   13,   10,   19],\n",
              "       [   1,    0,    4,    0,  966,    0,    1,    2,    0,    8],\n",
              "       [  13,    0,    0,   11,    1,  841,    9,    3,    4,   10],\n",
              "       [   8,    2,    2,    0,   12,   14,  917,    0,    3,    0],\n",
              "       [   2,    7,   11,    0,    9,    2,    0,  985,    2,   10],\n",
              "       [  19,    2,    9,    2,    8,   11,    3,    8,  900,   12],\n",
              "       [   4,    3,    0,    7,   28,    3,    0,    9,    4,  951]],\n",
              "      dtype=int32)>"
            ]
          },
          "metadata": {},
          "execution_count": 105
        }
      ]
    },
    {
      "cell_type": "code",
      "source": [
        "plt.figure(figsize=(10,7))\n",
        "sn.heatmap(cm, annot=True, fmt='d')\n",
        "plt.xlabel('Predicted')\n",
        "plt.ylabel('Truth')"
      ],
      "metadata": {
        "colab": {
          "base_uri": "https://localhost:8080/",
          "height": 636
        },
        "id": "R2_N5EstQouc",
        "outputId": "477c8f86-32b3-4b57-ba8b-462843d60a51"
      },
      "execution_count": null,
      "outputs": [
        {
          "output_type": "execute_result",
          "data": {
            "text/plain": [
              "Text(95.72222222222221, 0.5, 'Truth')"
            ]
          },
          "metadata": {},
          "execution_count": 106
        },
        {
          "output_type": "display_data",
          "data": {
            "text/plain": [
              "<Figure size 1000x700 with 2 Axes>"
            ],
            "image/png": "[encoded data removed]"
          },
          "metadata": {}
        }
      ]
    }
  ]
}